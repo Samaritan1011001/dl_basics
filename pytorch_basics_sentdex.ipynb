{
 "cells": [
  {
   "cell_type": "code",
   "execution_count": 3,
   "metadata": {},
   "outputs": [
    {
     "name": "stdout",
     "output_type": "stream",
     "text": [
      "tensor([10.,  9.])\n"
     ]
    }
   ],
   "source": [
    "import torch\n",
    "x = torch.Tensor([5,3])\n",
    "y = torch.Tensor([2,3])\n",
    "print(x*y)"
   ]
  },
  {
   "cell_type": "code",
   "execution_count": 8,
   "metadata": {},
   "outputs": [
    {
     "name": "stdout",
     "output_type": "stream",
     "text": [
      "tensor([[0., 0.],\n",
      "        [0., 0.],\n",
      "        [0., 0.],\n",
      "        [0., 0.],\n",
      "        [0., 0.],\n",
      "        [0., 0.]])\n"
     ]
    }
   ],
   "source": [
    "x = torch.zeros([6,2])\n",
    "print(x)"
   ]
  },
  {
   "cell_type": "code",
   "execution_count": 27,
   "metadata": {},
   "outputs": [
    {
     "data": {
      "text/plain": [
       "tensor([[0.8382, 0.4803, 0.3923, 0.9225, 0.5436],\n",
       "        [0.3117, 0.5474, 0.3151, 0.9111, 0.4682],\n",
       "        [0.0666, 0.7451, 0.7519, 0.6634, 0.3927],\n",
       "        [0.5721, 0.4578, 0.4257, 0.5783, 0.6563],\n",
       "        [0.0713, 0.2988, 0.3880, 0.7527, 0.7459]])"
      ]
     },
     "execution_count": 27,
     "metadata": {},
     "output_type": "execute_result"
    }
   ],
   "source": [
    "x.shape\n",
    "y = torch.rand([5,5])\n",
    "y"
   ]
  },
  {
   "cell_type": "code",
   "execution_count": 28,
   "metadata": {},
   "outputs": [
    {
     "data": {
      "text/plain": [
       "tensor([[0.8382, 0.4803, 0.3923, 0.9225, 0.5436, 0.3117, 0.5474, 0.3151, 0.9111,\n",
       "         0.4682, 0.0666, 0.7451, 0.7519, 0.6634, 0.3927, 0.5721, 0.4578, 0.4257,\n",
       "         0.5783, 0.6563, 0.0713, 0.2988, 0.3880, 0.7527, 0.7459]])"
      ]
     },
     "execution_count": 28,
     "metadata": {},
     "output_type": "execute_result"
    }
   ],
   "source": [
    "y = y.view([1,25])\n",
    "y"
   ]
  }
 ],
 "metadata": {
  "kernelspec": {
   "display_name": "Python 3",
   "language": "python",
   "name": "python3"
  },
  "language_info": {
   "codemirror_mode": {
    "name": "ipython",
    "version": 3
   },
   "file_extension": ".py",
   "mimetype": "text/x-python",
   "name": "python",
   "nbconvert_exporter": "python",
   "pygments_lexer": "ipython3",
   "version": "3.7.4"
  }
 },
 "nbformat": 4,
 "nbformat_minor": 4
}
